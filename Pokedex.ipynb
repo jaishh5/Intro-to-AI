{
  "nbformat": 4,
  "nbformat_minor": 0,
  "metadata": {
    "colab": {
      "name": "Pokedex",
      "provenance": [],
      "collapsed_sections": []
    },
    "kernelspec": {
      "name": "python3",
      "display_name": "Python 3"
    },
    "accelerator": "GPU"
  },
  "cells": [
    {
      "cell_type": "code",
      "metadata": {
        "id": "KEOai0-25L6f"
      },
      "source": [
        "import matplotlib.pyplot as plt\n",
        "import numpy as np\n",
        "\n",
        "import keras"
      ],
      "execution_count": 1,
      "outputs": []
    },
    {
      "cell_type": "code",
      "metadata": {
        "id": "F6OG7pH_5_wr",
        "outputId": "98001210-5e27-4acc-be03-bce97671c577",
        "colab": {
          "base_uri": "https://localhost:8080/",
          "height": 377
        }
      },
      "source": [
        "!wget \"https://www.dropbox.com/sh/s9r1av3m4eatd3y/AAA8zYti5b5tnyKfcah2Reaja\""
      ],
      "execution_count": 2,
      "outputs": [
        {
          "output_type": "stream",
          "text": [
            "--2020-10-17 14:59:13--  https://www.dropbox.com/sh/s9r1av3m4eatd3y/AAA8zYti5b5tnyKfcah2Reaja\n",
            "Resolving www.dropbox.com (www.dropbox.com)... 162.125.1.1, 2620:100:6016:1::a27d:101\n",
            "Connecting to www.dropbox.com (www.dropbox.com)|162.125.1.1|:443... connected.\n",
            "HTTP request sent, awaiting response... 301 Moved Permanently\n",
            "Location: /sh/raw/s9r1av3m4eatd3y/AAA8zYti5b5tnyKfcah2Reaja [following]\n",
            "--2020-10-17 14:59:13--  https://www.dropbox.com/sh/raw/s9r1av3m4eatd3y/AAA8zYti5b5tnyKfcah2Reaja\n",
            "Reusing existing connection to www.dropbox.com:443.\n",
            "HTTP request sent, awaiting response... 302 Found\n",
            "Location: https://uc20bb51fe2d9efe123019e76e86.dl.dropboxusercontent.com/zip_download_get/Ak2VznMnJOaNXQqQfqoa-orDsB_kEkp6QJtowwY8iU2DzenZo3rN_ebKI_5TfTTYSjsaD1mU18vxZksU2Vmrdvn4YvdMCK84OITbYC6gjkmN_A [following]\n",
            "--2020-10-17 14:59:14--  https://uc20bb51fe2d9efe123019e76e86.dl.dropboxusercontent.com/zip_download_get/Ak2VznMnJOaNXQqQfqoa-orDsB_kEkp6QJtowwY8iU2DzenZo3rN_ebKI_5TfTTYSjsaD1mU18vxZksU2Vmrdvn4YvdMCK84OITbYC6gjkmN_A\n",
            "Resolving uc20bb51fe2d9efe123019e76e86.dl.dropboxusercontent.com (uc20bb51fe2d9efe123019e76e86.dl.dropboxusercontent.com)... 162.125.1.15, 2620:100:6016:15::a27d:10f\n",
            "Connecting to uc20bb51fe2d9efe123019e76e86.dl.dropboxusercontent.com (uc20bb51fe2d9efe123019e76e86.dl.dropboxusercontent.com)|162.125.1.15|:443... connected.\n",
            "HTTP request sent, awaiting response... 200 OK\n",
            "Length: 108467679 (103M) [application/zip]\n",
            "Saving to: ‘AAA8zYti5b5tnyKfcah2Reaja’\n",
            "\n",
            "AAA8zYti5b5tnyKfcah 100%[===================>] 103.44M  2.54MB/s    in 41s     \n",
            "\n",
            "2020-10-17 14:59:56 (2.49 MB/s) - ‘AAA8zYti5b5tnyKfcah2Reaja’ saved [108467679/108467679]\n",
            "\n"
          ],
          "name": "stdout"
        }
      ]
    },
    {
      "cell_type": "code",
      "metadata": {
        "id": "pYyNQJY06L_e",
        "outputId": "096cb210-fbcc-4d50-db73-0f87fd329e2d",
        "colab": {
          "base_uri": "https://localhost:8080/",
          "height": 1000
        }
      },
      "source": [
        "!unzip \"AAA8zYti5b5tnyKfcah2Reaja\" -d dataset/"
      ],
      "execution_count": 3,
      "outputs": [
        {
          "output_type": "stream",
          "text": [
            "Archive:  AAA8zYti5b5tnyKfcah2Reaja\n",
            "warning:  stripped absolute path spec from /\n",
            "mapname:  conversion of  failed\n",
            "   creating: dataset/Test/\n",
            "   creating: dataset/Train/\n",
            "   creating: dataset/Test/Pikachu/\n",
            "   creating: dataset/Train/Pikachu/\n",
            "   creating: dataset/Test/Bulbasaur/\n",
            "   creating: dataset/Test/Charmander/\n",
            "   creating: dataset/Train/Bulbasaur/\n",
            "   creating: dataset/Train/Charmander/\n",
            " extracting: dataset/Train/Pikachu/348.jpg  \n",
            " extracting: dataset/Train/Pikachu/319.jpg  \n",
            " extracting: dataset/Test/Pikachu/2032.jpg  \n",
            " extracting: dataset/Test/Pikachu/2011.jpg  \n",
            " extracting: dataset/Train/Pikachu/378.jpg  \n",
            " extracting: dataset/Train/Pikachu/344.jpg  \n",
            " extracting: dataset/Train/Pikachu/379.jpg  \n",
            " extracting: dataset/Train/Pikachu/363.jpg  \n",
            " extracting: dataset/Train/Pikachu/385.jpg  \n",
            " extracting: dataset/Train/Pikachu/302.jpg  \n",
            " extracting: dataset/Test/Pikachu/2000.jpg  \n",
            " extracting: dataset/Train/Pikachu/313.jpg  \n",
            " extracting: dataset/Train/Pikachu/309.jpg  \n",
            " extracting: dataset/Train/Pikachu/342.jpg  \n",
            " extracting: dataset/Train/Pikachu/315.jpg  \n",
            " extracting: dataset/Train/Pikachu/372.jpg  \n",
            " extracting: dataset/Test/Pikachu/2028.jpg  \n",
            " extracting: dataset/Test/Pikachu/2014.jpg  \n",
            " extracting: dataset/Train/Pikachu/370.jpg  \n",
            " extracting: dataset/Train/Pikachu/347.jpg  \n",
            " extracting: dataset/Train/Pikachu/318.jpg  \n",
            " extracting: dataset/Test/Pikachu/2015.jpg  \n",
            " extracting: dataset/Train/Pikachu/355.jpg  \n",
            " extracting: dataset/Train/Pikachu/337.jpg  \n",
            " extracting: dataset/Train/Pikachu/298.jpg  \n",
            " extracting: dataset/Train/Pikachu/368.jpg  \n",
            " extracting: dataset/Train/Pikachu/352.jpg  \n",
            " extracting: dataset/Train/Pikachu/320.jpg  \n",
            " extracting: dataset/Test/Pikachu/2022.jpg  \n",
            " extracting: dataset/Test/Pikachu/2004.jpg  \n",
            " extracting: dataset/Train/Pikachu/314.jpg  \n",
            " extracting: dataset/Train/Pikachu/306.jpg  \n",
            " extracting: dataset/Train/Pikachu/365.jpg  \n",
            " extracting: dataset/Train/Pikachu/384.jpg  \n",
            " extracting: dataset/Train/Pikachu/345.jpg  \n",
            " extracting: dataset/Train/Pikachu/362.jpg  \n",
            " extracting: dataset/Train/Pikachu/316.jpg  \n",
            " extracting: dataset/Train/Pikachu/359.jpg  \n",
            " extracting: dataset/Test/Pikachu/2033.jpg  \n",
            " extracting: dataset/Train/Pikachu/354.jpg  \n",
            " extracting: dataset/Train/Pikachu/341.jpg  \n",
            " extracting: dataset/Train/Pikachu/371.jpg  \n",
            " extracting: dataset/Train/Pikachu/389.jpg  \n",
            " extracting: dataset/Test/Pikachu/2017.jpg  \n",
            " extracting: dataset/Test/Pikachu/2029.jpg  \n",
            " extracting: dataset/Test/Pikachu/2016.jpg  \n",
            " extracting: dataset/Train/Pikachu/336.jpg  \n",
            " extracting: dataset/Test/Pikachu/2030.jpg  \n",
            " extracting: dataset/Train/Pikachu/358.jpg  \n",
            " extracting: dataset/Test/Pikachu/2024.jpg  \n",
            " extracting: dataset/Train/Pikachu/377.jpg  \n",
            " extracting: dataset/Train/Pikachu/394.jpg  \n",
            " extracting: dataset/Test/Pikachu/2005.jpg  \n",
            " extracting: dataset/Test/Pikachu/2023.jpg  \n",
            " extracting: dataset/Train/Pikachu/325.jpg  \n",
            " extracting: dataset/Train/Pikachu/312.jpg  \n",
            " extracting: dataset/Train/Pikachu/304.jpg  \n",
            " extracting: dataset/Train/Pikachu/339.jpg  \n",
            " extracting: dataset/Train/Pikachu/382.jpg  \n",
            " extracting: dataset/Train/Pikachu/317.jpg  \n",
            " extracting: dataset/Test/Pikachu/2008.jpg  \n",
            " extracting: dataset/Train/Pikachu/364.jpg  \n",
            " extracting: dataset/Train/Pikachu/307.jpg  \n",
            " extracting: dataset/Test/Pikachu/2012.jpg  \n",
            " extracting: dataset/Train/Pikachu/391.jpg  \n",
            " extracting: dataset/Train/Pikachu/390.jpg  \n",
            " extracting: dataset/Train/Pikachu/301.jpg  \n",
            " extracting: dataset/Train/Pikachu/322.jpg  \n",
            " extracting: dataset/Train/Pikachu/356.jpg  \n",
            " extracting: dataset/Train/Pikachu/351.jpg  \n",
            " extracting: dataset/Test/Pikachu/2036.jpg  \n",
            " extracting: dataset/Train/Pikachu/361.jpg  \n",
            " extracting: dataset/Test/Pikachu/2031.jpg  \n",
            " extracting: dataset/Test/Pikachu/2013.jpg  \n",
            " extracting: dataset/Test/Pikachu/2003.jpg  \n",
            " extracting: dataset/Train/Pikachu/324.jpg  \n",
            " extracting: dataset/Train/Pikachu/329.jpg  \n",
            " extracting: dataset/Test/Pikachu/2025.jpg  \n",
            " extracting: dataset/Train/Pikachu/383.jpg  \n",
            " extracting: dataset/Train/Pikachu/340.jpg  \n",
            " extracting: dataset/Train/Pikachu/376.jpg  \n",
            " extracting: dataset/Train/Pikachu/387.jpg  \n",
            " extracting: dataset/Test/Pikachu/2009.jpg  \n",
            " extracting: dataset/Train/Pikachu/357.jpg  \n",
            " extracting: dataset/Train/Pikachu/305.jpg  \n",
            " extracting: dataset/Test/Pikachu/2018.jpg  \n",
            " extracting: dataset/Train/Pikachu/311.jpg  \n",
            " extracting: dataset/Train/Pikachu/388.jpg  \n",
            " extracting: dataset/Train/Pikachu/392.jpg  \n",
            " extracting: dataset/Train/Pikachu/393.jpg  \n",
            " extracting: dataset/Train/Pikachu/338.jpg  \n",
            " extracting: dataset/Train/Pikachu/328.jpg  \n",
            " extracting: dataset/Train/Pikachu/375.jpg  \n",
            " extracting: dataset/Train/Pikachu/335.jpg  \n",
            " extracting: dataset/Test/Pikachu/2020.jpg  \n",
            " extracting: dataset/Train/Pikachu/297.jpg  \n",
            " extracting: dataset/Train/Pikachu/333.jpg  \n",
            " extracting: dataset/Train/Pikachu/300.jpg  \n",
            " extracting: dataset/Test/Pikachu/2002.jpg  \n",
            " extracting: dataset/Test/Pikachu/2006.jpg  \n",
            " extracting: dataset/Train/Pikachu/380.jpg  \n",
            " extracting: dataset/Train/Pikachu/349.jpg  \n",
            " extracting: dataset/Train/Pikachu/350.jpg  \n",
            " extracting: dataset/Train/Pikachu/327.jpg  \n",
            " extracting: dataset/Train/Pikachu/367.jpg  \n",
            " extracting: dataset/Train/Pikachu/386.jpg  \n",
            " extracting: dataset/Train/Pikachu/346.jpg  \n",
            " extracting: dataset/Train/Pikachu/310.jpg  \n",
            " extracting: dataset/Train/Pikachu/332.jpg  \n",
            " extracting: dataset/Train/Pikachu/321.jpg  \n",
            " extracting: dataset/Train/Pikachu/330.jpg  \n",
            " extracting: dataset/Test/Pikachu/2037.jpg  \n",
            " extracting: dataset/Test/Pikachu/2019.jpg  \n",
            " extracting: dataset/Train/Pikachu/360.jpg  \n",
            " extracting: dataset/Test/Pikachu/2035.jpg  \n",
            " extracting: dataset/Train/Pikachu/395.jpg  \n",
            " extracting: dataset/Train/Pikachu/373.jpg  \n",
            " extracting: dataset/Test/Pikachu/2010.jpg  \n",
            " extracting: dataset/Test/Pikachu/2001.jpg  \n",
            " extracting: dataset/Train/Pikachu/374.jpg  \n",
            " extracting: dataset/Train/Pikachu/396.jpg  \n",
            " extracting: dataset/Test/Pikachu/2026.jpg  \n",
            " extracting: dataset/Test/Pikachu/2007.jpg  \n",
            " extracting: dataset/Train/Pikachu/296.jpg  \n",
            " extracting: dataset/Train/Pikachu/366.jpg  \n",
            " extracting: dataset/Test/Pikachu/2038.jpg  \n",
            " extracting: dataset/Train/Pikachu/308.jpg  \n",
            " extracting: dataset/Train/Pikachu/323.jpg  \n",
            " extracting: dataset/Train/Pikachu/343.jpg  \n",
            " extracting: dataset/Test/Pikachu/2021.jpg  \n",
            " extracting: dataset/Train/Pikachu/334.jpg  \n",
            " extracting: dataset/Train/Pikachu/381.jpg  \n",
            " extracting: dataset/Train/Pikachu/353.jpg  \n",
            " extracting: dataset/Test/Pikachu/2034.jpg  \n",
            " extracting: dataset/Test/Pikachu/2039.jpg  \n",
            " extracting: dataset/Train/Pikachu/331.jpg  \n",
            " extracting: dataset/Train/Pikachu/303.jpg  \n",
            " extracting: dataset/Train/Pikachu/299.jpg  \n",
            " extracting: dataset/Train/Pikachu/326.jpg  \n",
            " extracting: dataset/Train/Pikachu/369.jpg  \n",
            " extracting: dataset/Test/Pikachu/2027.jpg  \n",
            " extracting: dataset/Test/Bulbasaur/1104.jpg  \n",
            " extracting: dataset/Test/Bulbasaur/1134.jpg  \n",
            " extracting: dataset/Test/Bulbasaur/1111.jpg  \n",
            " extracting: dataset/Test/Bulbasaur/1121.jpg  \n",
            " extracting: dataset/Train/Bulbasaur/411.jpg  \n",
            " extracting: dataset/Train/Bulbasaur/478.jpg  \n",
            " extracting: dataset/Train/Bulbasaur/399.jpg  \n",
            " extracting: dataset/Train/Bulbasaur/404.jpg  \n",
            " extracting: dataset/Train/Bulbasaur/494.jpg  \n",
            " extracting: dataset/Test/Bulbasaur/1108.jpg  \n",
            " extracting: dataset/Train/Bulbasaur/475.jpg  \n",
            " extracting: dataset/Train/Bulbasaur/418.jpg  \n",
            " extracting: dataset/Test/Bulbasaur/1127.jpg  \n",
            " extracting: dataset/Test/Bulbasaur/1117.jpg  \n",
            " extracting: dataset/Train/Bulbasaur/486.jpg  \n",
            " extracting: dataset/Train/Bulbasaur/420.jpg  \n",
            " extracting: dataset/Train/Bulbasaur/470.jpg  \n",
            " extracting: dataset/Train/Bulbasaur/424.jpg  \n",
            " extracting: dataset/Train/Bulbasaur/464.jpg  \n",
            " extracting: dataset/Train/Bulbasaur/492.jpg  \n",
            " extracting: dataset/Train/Bulbasaur/479.jpg  \n",
            " extracting: dataset/Train/Bulbasaur/446.jpg  \n",
            " extracting: dataset/Train/Bulbasaur/400.jpg  \n",
            " extracting: dataset/Train/Bulbasaur/487.jpg  \n",
            " extracting: dataset/Train/Bulbasaur/414.jpg  \n",
            " extracting: dataset/Train/Bulbasaur/465.jpg  \n",
            " extracting: dataset/Train/Bulbasaur/474.jpg  \n",
            " extracting: dataset/Train/Bulbasaur/444.jpg  \n",
            " extracting: dataset/Train/Bulbasaur/410.jpg  \n",
            " extracting: dataset/Train/Bulbasaur/443.jpg  \n",
            " extracting: dataset/Test/Bulbasaur/1101.jpg  \n",
            " extracting: dataset/Test/Bulbasaur/1118.jpg  \n",
            " extracting: dataset/Train/Bulbasaur/423.jpg  \n",
            " extracting: dataset/Train/Bulbasaur/436.jpg  \n",
            " extracting: dataset/Test/Bulbasaur/1131.jpg  \n",
            " extracting: dataset/Train/Bulbasaur/488.jpg  \n",
            " extracting: dataset/Train/Bulbasaur/495.jpg  \n",
            " extracting: dataset/Train/Bulbasaur/419.jpg  \n",
            " extracting: dataset/Train/Bulbasaur/397.jpg  \n",
            " extracting: dataset/Train/Bulbasaur/425.jpg  \n",
            " extracting: dataset/Test/Bulbasaur/1126.jpg  \n",
            " extracting: dataset/Test/Bulbasaur/1110.jpg  \n",
            " extracting: dataset/Train/Bulbasaur/471.jpg  \n",
            " extracting: dataset/Train/Bulbasaur/493.jpg  \n",
            " extracting: dataset/Train/Bulbasaur/442.jpg  \n",
            " extracting: dataset/Train/Bulbasaur/449.jpg  \n",
            " extracting: dataset/Train/Bulbasaur/458.jpg  \n",
            " extracting: dataset/Train/Bulbasaur/483.jpg  \n",
            " extracting: dataset/Train/Bulbasaur/428.jpg  \n",
            " extracting: dataset/Train/Bulbasaur/415.jpg  \n",
            " extracting: dataset/Train/Bulbasaur/401.jpg  \n",
            " extracting: dataset/Train/Bulbasaur/451.jpg  \n",
            " extracting: dataset/Train/Bulbasaur/445.jpg  \n",
            " extracting: dataset/Test/Bulbasaur/1125.jpg  \n",
            " extracting: dataset/Train/Bulbasaur/456.jpg  \n",
            " extracting: dataset/Train/Bulbasaur/448.jpg  \n",
            " extracting: dataset/Train/Bulbasaur/455.jpg  \n",
            " extracting: dataset/Train/Bulbasaur/469.jpg  \n",
            " extracting: dataset/Test/Bulbasaur/1119.jpg  \n",
            " extracting: dataset/Train/Bulbasaur/413.jpg  \n",
            " extracting: dataset/Train/Bulbasaur/450.jpg  \n",
            " extracting: dataset/Test/Bulbasaur/1100.jpg  \n",
            " extracting: dataset/Train/Bulbasaur/437.jpg  \n",
            " extracting: dataset/Test/Bulbasaur/1137.jpg  \n",
            " extracting: dataset/Test/Bulbasaur/1116.jpg  \n",
            " extracting: dataset/Test/Bulbasaur/1106.jpg  \n",
            " extracting: dataset/Train/Bulbasaur/422.jpg  \n",
            " extracting: dataset/Train/Bulbasaur/481.jpg  \n",
            " extracting: dataset/Test/Bulbasaur/1140.jpg  \n",
            " extracting: dataset/Train/Bulbasaur/496.jpg  \n",
            " extracting: dataset/Train/Bulbasaur/407.jpg  \n",
            " extracting: dataset/Train/Bulbasaur/482.jpg  \n",
            " extracting: dataset/Train/Bulbasaur/429.jpg  \n",
            " extracting: dataset/Train/Bulbasaur/489.jpg  \n",
            " extracting: dataset/Train/Bulbasaur/416.jpg  \n",
            " extracting: dataset/Train/Bulbasaur/432.jpg  \n",
            " extracting: dataset/Train/Bulbasaur/460.jpg  \n",
            " extracting: dataset/Test/Bulbasaur/1130.jpg  \n",
            " extracting: dataset/Train/Bulbasaur/468.jpg  \n",
            " extracting: dataset/Train/Bulbasaur/452.jpg  \n",
            " extracting: dataset/Test/Bulbasaur/1123.jpg  \n",
            " extracting: dataset/Test/Bulbasaur/1124.jpg  \n",
            " extracting: dataset/Train/Bulbasaur/433.jpg  \n",
            " extracting: dataset/Train/Bulbasaur/484.jpg  \n",
            " extracting: dataset/Train/Bulbasaur/477.jpg  \n",
            " extracting: dataset/Test/Bulbasaur/1136.jpg  \n",
            " extracting: dataset/Train/Bulbasaur/426.jpg  \n",
            " extracting: dataset/Train/Bulbasaur/412.jpg  \n",
            " extracting: dataset/Train/Bulbasaur/466.jpg  \n",
            " extracting: dataset/Train/Bulbasaur/406.jpg  \n",
            " extracting: dataset/Test/Bulbasaur/1113.jpg  \n",
            " extracting: dataset/Train/Bulbasaur/402.jpg  \n",
            " extracting: dataset/Test/Bulbasaur/1114.jpg  \n",
            " extracting: dataset/Train/Bulbasaur/453.jpg  \n",
            " extracting: dataset/Train/Bulbasaur/480.jpg  \n",
            " extracting: dataset/Train/Bulbasaur/490.jpg  \n",
            " extracting: dataset/Test/Bulbasaur/1103.jpg  \n",
            " extracting: dataset/Train/Bulbasaur/462.jpg  \n",
            " extracting: dataset/Train/Bulbasaur/431.jpg  \n",
            " extracting: dataset/Train/Bulbasaur/430.jpg  \n",
            " extracting: dataset/Train/Bulbasaur/398.jpg  \n",
            " extracting: dataset/Train/Bulbasaur/408.jpg  \n",
            " extracting: dataset/Train/Bulbasaur/497.jpg  \n",
            " extracting: dataset/Train/Bulbasaur/417.jpg  \n",
            " extracting: dataset/Test/Bulbasaur/1139.jpg  \n",
            " extracting: dataset/Train/Bulbasaur/467.jpg  \n",
            " extracting: dataset/Train/Bulbasaur/472.jpg  \n",
            " extracting: dataset/Train/Bulbasaur/459.jpg  \n",
            " extracting: dataset/Train/Bulbasaur/427.jpg  \n",
            " extracting: dataset/Test/Bulbasaur/1128.jpg  \n",
            " extracting: dataset/Test/Bulbasaur/1133.jpg  \n",
            " extracting: dataset/Train/Bulbasaur/461.jpg  \n",
            " extracting: dataset/Test/Bulbasaur/1129.jpg  \n",
            " extracting: dataset/Train/Bulbasaur/485.jpg  \n",
            " extracting: dataset/Train/Bulbasaur/476.jpg  \n",
            " extracting: dataset/Train/Bulbasaur/439.jpg  \n",
            " extracting: dataset/Train/Bulbasaur/405.jpg  \n",
            " extracting: dataset/Train/Bulbasaur/491.jpg  \n",
            " extracting: dataset/Train/Bulbasaur/454.jpg  \n",
            " extracting: dataset/Test/Bulbasaur/1112.jpg  \n",
            " extracting: dataset/Train/Bulbasaur/440.jpg  \n",
            " extracting: dataset/Train/Bulbasaur/403.jpg  \n",
            " extracting: dataset/Test/Bulbasaur/1122.jpg  \n",
            " extracting: dataset/Train/Bulbasaur/434.jpg  \n",
            " extracting: dataset/Test/Bulbasaur/1120.jpg  \n",
            " extracting: dataset/Test/Bulbasaur/1105.jpg  \n",
            " extracting: dataset/Train/Bulbasaur/463.jpg  \n",
            " extracting: dataset/Train/Bulbasaur/473.jpg  \n",
            " extracting: dataset/Test/Bulbasaur/1138.jpg  \n",
            " extracting: dataset/Test/Bulbasaur/1107.jpg  \n",
            " extracting: dataset/Train/Bulbasaur/409.jpg  \n",
            " extracting: dataset/Train/Bulbasaur/441.jpg  \n",
            " extracting: dataset/Test/Bulbasaur/1102.jpg  \n",
            " extracting: dataset/Train/Bulbasaur/457.jpg  \n",
            " extracting: dataset/Test/Bulbasaur/1135.jpg  \n",
            " extracting: dataset/Train/Bulbasaur/421.jpg  \n",
            " extracting: dataset/Test/Bulbasaur/1115.jpg  \n",
            " extracting: dataset/Train/Bulbasaur/438.jpg  \n",
            " extracting: dataset/Train/Bulbasaur/435.jpg  \n",
            " extracting: dataset/Test/Bulbasaur/1132.jpg  \n",
            " extracting: dataset/Train/Bulbasaur/447.jpg  \n",
            " extracting: dataset/Test/Bulbasaur/1109.jpg  \n",
            " extracting: dataset/Train/Charmander/591.jpg  \n",
            " extracting: dataset/Test/Charmander/2218.jpg  \n",
            " extracting: dataset/Test/Charmander/2231.jpg  \n",
            " extracting: dataset/Test/Charmander/2211.jpg  \n",
            " extracting: dataset/Train/Charmander/602.jpg  \n",
            " extracting: dataset/Train/Charmander/529.jpg  \n",
            " extracting: dataset/Test/Charmander/2237.jpg  \n",
            " extracting: dataset/Train/Charmander/566.jpg  \n",
            " extracting: dataset/Train/Charmander/576.jpg  \n",
            " extracting: dataset/Train/Charmander/569.jpg  \n",
            " extracting: dataset/Train/Charmander/586.jpg  \n",
            " extracting: dataset/Train/Charmander/590.jpg  \n",
            " extracting: dataset/Test/Charmander/2220.jpg  \n",
            " extracting: dataset/Train/Charmander/620.jpg  \n",
            " extracting: dataset/Train/Charmander/552.jpg  \n",
            " extracting: dataset/Train/Charmander/585.jpg  \n",
            " extracting: dataset/Train/Charmander/613.jpg  \n",
            " extracting: dataset/Train/Charmander/577.jpg  \n",
            " extracting: dataset/Train/Charmander/554.jpg  \n",
            " extracting: dataset/Train/Charmander/565.jpg  \n",
            " extracting: dataset/Train/Charmander/551.jpg  \n",
            " extracting: dataset/Train/Charmander/583.jpg  \n",
            " extracting: dataset/Train/Charmander/604.jpg  \n",
            " extracting: dataset/Test/Charmander/2216.jpg  \n",
            " extracting: dataset/Test/Charmander/2206.jpg  \n",
            " extracting: dataset/Train/Charmander/558.jpg  \n",
            " extracting: dataset/Train/Charmander/617.jpg  \n",
            " extracting: dataset/Train/Charmander/571.jpg  \n",
            " extracting: dataset/Train/Charmander/562.jpg  \n",
            " extracting: dataset/Test/Charmander/2219.jpg  \n",
            " extracting: dataset/Train/Charmander/534.jpg  \n",
            " extracting: dataset/Train/Charmander/592.jpg  \n",
            " extracting: dataset/Train/Charmander/523.jpg  \n",
            " extracting: dataset/Test/Charmander/2222.jpg  \n",
            " extracting: dataset/Test/Charmander/2207.jpg  \n",
            " extracting: dataset/Test/Charmander/2040.jpg  \n",
            " extracting: dataset/Train/Charmander/553.jpg  \n",
            " extracting: dataset/Test/Charmander/2224.jpg  \n",
            " extracting: dataset/Test/Charmander/2226.jpg  \n",
            " extracting: dataset/Train/Charmander/587.jpg  \n",
            " extracting: dataset/Test/Charmander/2215.jpg  \n",
            " extracting: dataset/Train/Charmander/559.jpg  \n",
            " extracting: dataset/Test/Charmander/2227.jpg  \n",
            " extracting: dataset/Train/Charmander/603.jpg  \n",
            " extracting: dataset/Train/Charmander/574.jpg  \n",
            " extracting: dataset/Train/Charmander/597.jpg  \n",
            " extracting: dataset/Train/Charmander/601.jpg  \n",
            " extracting: dataset/Train/Charmander/532.jpg  \n",
            " extracting: dataset/Train/Charmander/588.jpg  \n",
            " extracting: dataset/Train/Charmander/608.jpg  \n",
            " extracting: dataset/Test/Charmander/2201.jpg  \n",
            " extracting: dataset/Train/Charmander/599.jpg  \n",
            " extracting: dataset/Train/Charmander/578.jpg  \n",
            " extracting: dataset/Train/Charmander/539.jpg  \n",
            " extracting: dataset/Train/Charmander/596.jpg  \n",
            " extracting: dataset/Train/Charmander/570.jpg  \n",
            " extracting: dataset/Train/Charmander/536.jpg  \n",
            " extracting: dataset/Train/Charmander/542.jpg  \n",
            " extracting: dataset/Train/Charmander/607.jpg  \n",
            " extracting: dataset/Train/Charmander/582.jpg  \n",
            " extracting: dataset/Train/Charmander/538.jpg  \n",
            " extracting: dataset/Train/Charmander/614.jpg  \n",
            " extracting: dataset/Train/Charmander/555.jpg  \n",
            " extracting: dataset/Train/Charmander/533.jpg  \n",
            " extracting: dataset/Train/Charmander/526.jpg  \n",
            " extracting: dataset/Train/Charmander/595.jpg  \n",
            " extracting: dataset/Train/Charmander/548.jpg  \n",
            " extracting: dataset/Train/Charmander/572.jpg  \n",
            " extracting: dataset/Train/Charmander/535.jpg  \n",
            " extracting: dataset/Train/Charmander/522.jpg  \n",
            " extracting: dataset/Train/Charmander/609.jpg  \n",
            " extracting: dataset/Test/Charmander/2208.jpg  \n",
            " extracting: dataset/Train/Charmander/618.jpg  \n",
            " extracting: dataset/Train/Charmander/606.jpg  \n",
            " extracting: dataset/Train/Charmander/575.jpg  \n",
            " extracting: dataset/Test/Charmander/2200.jpg  \n",
            " extracting: dataset/Train/Charmander/545.jpg  \n",
            " extracting: dataset/Train/Charmander/528.jpg  \n",
            " extracting: dataset/Train/Charmander/600.jpg  \n",
            " extracting: dataset/Test/Charmander/2232.jpg  \n",
            " extracting: dataset/Test/Charmander/2225.jpg  \n",
            " extracting: dataset/Train/Charmander/619.jpg  \n",
            " extracting: dataset/Train/Charmander/537.jpg  \n",
            " extracting: dataset/Train/Charmander/527.jpg  \n",
            " extracting: dataset/Test/Charmander/2238.jpg  \n",
            " extracting: dataset/Train/Charmander/556.jpg  \n",
            " extracting: dataset/Test/Charmander/2202.jpg  \n",
            " extracting: dataset/Train/Charmander/563.jpg  \n",
            " extracting: dataset/Train/Charmander/579.jpg  \n",
            " extracting: dataset/Test/Charmander/2223.jpg  \n",
            " extracting: dataset/Train/Charmander/550.jpg  \n",
            " extracting: dataset/Test/Charmander/2205.jpg  \n",
            " extracting: dataset/Train/Charmander/573.jpg  \n",
            " extracting: dataset/Test/Charmander/2235.jpg  \n",
            " extracting: dataset/Train/Charmander/564.jpg  \n",
            " extracting: dataset/Train/Charmander/567.jpg  \n",
            " extracting: dataset/Train/Charmander/544.jpg  \n",
            " extracting: dataset/Train/Charmander/543.jpg  \n",
            " extracting: dataset/Test/Charmander/2204.jpg  \n",
            " extracting: dataset/Train/Charmander/498.jpg  \n",
            " extracting: dataset/Train/Charmander/521.jpg  \n",
            " extracting: dataset/Train/Charmander/611.jpg  \n",
            " extracting: dataset/Test/Charmander/2213.jpg  \n",
            " extracting: dataset/Test/Charmander/2209.jpg  \n",
            " extracting: dataset/Train/Charmander/615.jpg  \n",
            " extracting: dataset/Train/Charmander/549.jpg  \n",
            " extracting: dataset/Train/Charmander/581.jpg  \n",
            " extracting: dataset/Test/Charmander/2203.jpg  \n",
            " extracting: dataset/Train/Charmander/546.jpg  \n",
            " extracting: dataset/Train/Charmander/584.jpg  \n",
            " extracting: dataset/Train/Charmander/557.jpg  \n",
            " extracting: dataset/Test/Charmander/2214.jpg  \n",
            " extracting: dataset/Test/Charmander/2229.jpg  \n",
            " extracting: dataset/Test/Charmander/2217.jpg  \n",
            " extracting: dataset/Test/Charmander/2234.jpg  \n",
            " extracting: dataset/Test/Charmander/2233.jpg  \n",
            " extracting: dataset/Train/Charmander/530.jpg  \n",
            " extracting: dataset/Train/Charmander/580.jpg  \n",
            " extracting: dataset/Train/Charmander/524.jpg  \n",
            " extracting: dataset/Train/Charmander/616.jpg  \n",
            " extracting: dataset/Test/Charmander/2228.jpg  \n",
            " extracting: dataset/Test/Charmander/2212.jpg  \n",
            " extracting: dataset/Train/Charmander/560.jpg  \n",
            " extracting: dataset/Test/Charmander/2239.jpg  \n",
            " extracting: dataset/Train/Charmander/540.jpg  \n",
            " extracting: dataset/Train/Charmander/598.jpg  \n",
            " extracting: dataset/Train/Charmander/612.jpg  \n",
            " extracting: dataset/Train/Charmander/610.jpg  \n",
            " extracting: dataset/Train/Charmander/531.jpg  \n",
            " extracting: dataset/Train/Charmander/520.jpg  \n",
            " extracting: dataset/Test/Charmander/2236.jpg  \n",
            " extracting: dataset/Train/Charmander/568.jpg  \n",
            " extracting: dataset/Test/Charmander/2240.jpg  \n",
            " extracting: dataset/Train/Charmander/541.jpg  \n",
            " extracting: dataset/Train/Charmander/561.jpg  \n",
            " extracting: dataset/Test/Charmander/2221.jpg  \n",
            " extracting: dataset/Train/Charmander/547.jpg  \n",
            " extracting: dataset/Train/Charmander/605.jpg  \n",
            " extracting: dataset/Test/Charmander/2210.jpg  \n",
            " extracting: dataset/Train/Charmander/593.jpg  \n",
            " extracting: dataset/Train/Charmander/589.jpg  \n",
            " extracting: dataset/Train/Charmander/594.jpg  \n",
            " extracting: dataset/Test/Charmander/2230.jpg  \n",
            " extracting: dataset/Train/Charmander/525.jpg  \n"
          ],
          "name": "stdout"
        }
      ]
    },
    {
      "cell_type": "code",
      "metadata": {
        "id": "b-9wnLuf6Zwl"
      },
      "source": [
        ""
      ],
      "execution_count": 3,
      "outputs": []
    },
    {
      "cell_type": "markdown",
      "metadata": {
        "id": "Qyr2hM8M7PPo"
      },
      "source": [
        "## Image Augmentation/ Data Generator/ Data Loader"
      ]
    },
    {
      "cell_type": "code",
      "metadata": {
        "id": "UFBrmUsI6dGo"
      },
      "source": [
        "from keras.preprocessing import image"
      ],
      "execution_count": 4,
      "outputs": []
    },
    {
      "cell_type": "code",
      "metadata": {
        "id": "7N7QMm-i7gol"
      },
      "source": [
        "train_datagen = image.ImageDataGenerator(rotation_range=20, \n",
        "                         width_shift_range=0.2, \n",
        "                         height_shift_range=0.2, \n",
        "                         shear_range =0.2, \n",
        "                         zoom_range=0.3, \n",
        "                         horizontal_flip = True,\n",
        "                         rescale = 1/255.\n",
        "                         )"
      ],
      "execution_count": 5,
      "outputs": []
    },
    {
      "cell_type": "code",
      "metadata": {
        "id": "-jnMIgEB9MVl"
      },
      "source": [
        "val_datagen = image.ImageDataGenerator(rescale = 1/255.)"
      ],
      "execution_count": 6,
      "outputs": []
    },
    {
      "cell_type": "code",
      "metadata": {
        "id": "4jOzgEuS9bdl",
        "outputId": "b953a7a6-3487-4c97-960b-4f8a34b56cce",
        "colab": {
          "base_uri": "https://localhost:8080/",
          "height": 34
        }
      },
      "source": [
        "train_generator = train_datagen.flow_from_directory(\"dataset/Train\", target_size=(100,100) )"
      ],
      "execution_count": 7,
      "outputs": [
        {
          "output_type": "stream",
          "text": [
            "Found 304 images belonging to 3 classes.\n"
          ],
          "name": "stdout"
        }
      ]
    },
    {
      "cell_type": "code",
      "metadata": {
        "id": "VVCXeg9092oG",
        "outputId": "254ba8b0-b26a-4363-de86-046e272e856e",
        "colab": {
          "base_uri": "https://localhost:8080/",
          "height": 34
        }
      },
      "source": [
        "train_generator.class_indices"
      ],
      "execution_count": 8,
      "outputs": [
        {
          "output_type": "execute_result",
          "data": {
            "text/plain": [
              "{'Bulbasaur': 0, 'Charmander': 1, 'Pikachu': 2}"
            ]
          },
          "metadata": {
            "tags": []
          },
          "execution_count": 8
        }
      ]
    },
    {
      "cell_type": "code",
      "metadata": {
        "id": "SW1UuhPh9_9h"
      },
      "source": [
        "imgs, labels = next(train_generator)"
      ],
      "execution_count": 10,
      "outputs": []
    },
    {
      "cell_type": "code",
      "metadata": {
        "id": "tFG3o6giJ809",
        "outputId": "07e534a3-584b-49b4-b20c-573f30c25dfd",
        "colab": {
          "base_uri": "https://localhost:8080/",
          "height": 34
        }
      },
      "source": [
        "imgs.shape"
      ],
      "execution_count": 11,
      "outputs": [
        {
          "output_type": "execute_result",
          "data": {
            "text/plain": [
              "(32, 100, 100, 3)"
            ]
          },
          "metadata": {
            "tags": []
          },
          "execution_count": 11
        }
      ]
    },
    {
      "cell_type": "code",
      "metadata": {
        "id": "ILPQL9eFKJVT",
        "outputId": "a71f4422-3afd-4ce1-a36c-027d24f0e38c",
        "colab": {
          "base_uri": "https://localhost:8080/",
          "height": 285
        }
      },
      "source": [
        "plt.imshow(imgs[1])"
      ],
      "execution_count": 14,
      "outputs": [
        {
          "output_type": "execute_result",
          "data": {
            "text/plain": [
              "<matplotlib.image.AxesImage at 0x7f8f0d971438>"
            ]
          },
          "metadata": {
            "tags": []
          },
          "execution_count": 14
        },
        {
          "output_type": "display_data",
          "data": {
            "image/png": "[encoded data removed]",
            "text/plain": [
              "<Figure size 432x288 with 1 Axes>"
            ]
          },
          "metadata": {
            "tags": [],
            "needs_background": "light"
          }
        }
      ]
    },
    {
      "cell_type": "code",
      "metadata": {
        "id": "ltzvWaO_KRlR",
        "outputId": "b5f9229d-af92-45e6-c687-385b7bb0993b",
        "colab": {
          "base_uri": "https://localhost:8080/",
          "height": 34
        }
      },
      "source": [
        "labels[1]"
      ],
      "execution_count": 15,
      "outputs": [
        {
          "output_type": "execute_result",
          "data": {
            "text/plain": [
              "array([0., 0., 1.], dtype=float32)"
            ]
          },
          "metadata": {
            "tags": []
          },
          "execution_count": 15
        }
      ]
    },
    {
      "cell_type": "code",
      "metadata": {
        "id": "L1Y0_mksKUgm",
        "outputId": "d7a0f455-7fc8-472f-ae49-3bd31b9956be",
        "colab": {
          "base_uri": "https://localhost:8080/",
          "height": 34
        }
      },
      "source": [
        "val_generator = val_datagen.flow_from_directory(\"dataset/Test\", target_size=(100,100))"
      ],
      "execution_count": 17,
      "outputs": [
        {
          "output_type": "stream",
          "text": [
            "Found 123 images belonging to 3 classes.\n"
          ],
          "name": "stdout"
        }
      ]
    },
    {
      "cell_type": "code",
      "metadata": {
        "id": "VbBn9M2OLLZQ"
      },
      "source": [
        ""
      ],
      "execution_count": 17,
      "outputs": []
    },
    {
      "cell_type": "code",
      "metadata": {
        "id": "pQjwBXrYLVgr"
      },
      "source": [
        "from keras.models import Sequential\n",
        "from keras.layers import Conv2D, MaxPool2D, Flatten, Dense # ANN layers are Dense"
      ],
      "execution_count": 19,
      "outputs": []
    },
    {
      "cell_type": "code",
      "metadata": {
        "id": "G_JugQNaLV3i",
        "outputId": "b57bc631-fb40-4f49-dcb1-31005492a9be",
        "colab": {
          "base_uri": "https://localhost:8080/",
          "height": 391
        }
      },
      "source": [
        "model = Sequential()\n",
        " # input shape is only required for the first layer\n",
        "model.add( Conv2D(filters=32, kernel_size=(3,3), activation='relu', input_shape= (100,100,3)) )\n",
        "model.add( MaxPool2D(pool_size=(2,2)) )\n",
        "\n",
        "model.add( Conv2D(filters=64, kernel_size=(3,3), activation='relu') )\n",
        "model.add( MaxPool2D(pool_size=(2,2)) )\n",
        "\n",
        "model.add( Conv2D(filters=32, kernel_size=(3,3), activation='relu') )\n",
        "model.add( Flatten() )\n",
        "\n",
        "model.add( Dense(units=3, activation='softmax'))\n",
        "model.summary()"
      ],
      "execution_count": 20,
      "outputs": [
        {
          "output_type": "stream",
          "text": [
            "Model: \"sequential\"\n",
            "_________________________________________________________________\n",
            "Layer (type)                 Output Shape              Param #   \n",
            "=================================================================\n",
            "conv2d (Conv2D)              (None, 98, 98, 32)        896       \n",
            "_________________________________________________________________\n",
            "max_pooling2d (MaxPooling2D) (None, 49, 49, 32)        0         \n",
            "_________________________________________________________________\n",
            "conv2d_1 (Conv2D)            (None, 47, 47, 64)        18496     \n",
            "_________________________________________________________________\n",
            "max_pooling2d_1 (MaxPooling2 (None, 23, 23, 64)        0         \n",
            "_________________________________________________________________\n",
            "conv2d_2 (Conv2D)            (None, 21, 21, 32)        18464     \n",
            "_________________________________________________________________\n",
            "flatten (Flatten)            (None, 14112)             0         \n",
            "_________________________________________________________________\n",
            "dense (Dense)                (None, 3)                 42339     \n",
            "=================================================================\n",
            "Total params: 80,195\n",
            "Trainable params: 80,195\n",
            "Non-trainable params: 0\n",
            "_________________________________________________________________\n"
          ],
          "name": "stdout"
        }
      ]
    },
    {
      "cell_type": "code",
      "metadata": {
        "id": "6yn7Yy9NLXn0"
      },
      "source": [
        "model.compile(optimizer='adam', loss='categorical_crossentropy', metrics=['accuracy'])"
      ],
      "execution_count": 21,
      "outputs": []
    },
    {
      "cell_type": "code",
      "metadata": {
        "id": "BYqww_1DLYzf",
        "outputId": "ef77eac5-4486-4df4-ef96-0ba747169b1b",
        "colab": {
          "base_uri": "https://localhost:8080/",
          "height": 411
        }
      },
      "source": [
        "hist = model.fit_generator(train_generator, steps_per_epoch=304//32, epochs=10,\n",
        "                           validation_data=val_generator, validation_steps = 123//32)"
      ],
      "execution_count": 24,
      "outputs": [
        {
          "output_type": "stream",
          "text": [
            "Epoch 1/10\n",
            "3/9 [=========>....................] - ETA: 4s - loss: 0.9067 - accuracy: 0.5500"
          ],
          "name": "stdout"
        },
        {
          "output_type": "stream",
          "text": [
            "/usr/local/lib/python3.6/dist-packages/PIL/Image.py:932: UserWarning: Palette images with Transparency expressed in bytes should be converted to RGBA images\n",
            "  \"Palette images with Transparency expressed in bytes should be \"\n"
          ],
          "name": "stderr"
        },
        {
          "output_type": "stream",
          "text": [
            "9/9 [==============================] - 11s 1s/step - loss: 0.7376 - accuracy: 0.6544 - val_loss: 0.7402 - val_accuracy: 0.7188\n",
            "Epoch 2/10\n",
            "9/9 [==============================] - 10s 1s/step - loss: 0.5946 - accuracy: 0.6875 - val_loss: 0.7512 - val_accuracy: 0.6562\n",
            "Epoch 3/10\n",
            "9/9 [==============================] - 11s 1s/step - loss: 0.5288 - accuracy: 0.7537 - val_loss: 0.3723 - val_accuracy: 0.8750\n",
            "Epoch 4/10\n",
            "9/9 [==============================] - 10s 1s/step - loss: 0.3484 - accuracy: 0.8382 - val_loss: 0.2720 - val_accuracy: 0.8854\n",
            "Epoch 5/10\n",
            "9/9 [==============================] - 10s 1s/step - loss: 0.3196 - accuracy: 0.9044 - val_loss: 0.2375 - val_accuracy: 0.8750\n",
            "Epoch 6/10\n",
            "9/9 [==============================] - 10s 1s/step - loss: 0.3685 - accuracy: 0.8676 - val_loss: 0.2269 - val_accuracy: 0.9271\n",
            "Epoch 7/10\n",
            "9/9 [==============================] - 10s 1s/step - loss: 0.3060 - accuracy: 0.8860 - val_loss: 0.2561 - val_accuracy: 0.8750\n",
            "Epoch 8/10\n",
            "9/9 [==============================] - 11s 1s/step - loss: 0.2586 - accuracy: 0.9154 - val_loss: 0.3146 - val_accuracy: 0.8750\n",
            "Epoch 9/10\n",
            "9/9 [==============================] - 10s 1s/step - loss: 0.2321 - accuracy: 0.9301 - val_loss: 0.2147 - val_accuracy: 0.9271\n",
            "Epoch 10/10\n",
            "9/9 [==============================] - 10s 1s/step - loss: 0.2921 - accuracy: 0.8889 - val_loss: 0.1505 - val_accuracy: 0.9479\n"
          ],
          "name": "stdout"
        }
      ]
    },
    {
      "cell_type": "code",
      "metadata": {
        "id": "JSgzVL1rLXF1"
      },
      "source": [
        "model_history = hist.history"
      ],
      "execution_count": 25,
      "outputs": []
    },
    {
      "cell_type": "code",
      "metadata": {
        "id": "m3jQrBkDLVDv",
        "outputId": "90b5f002-d1fa-4f86-fe9f-779f79dde05d",
        "colab": {
          "base_uri": "https://localhost:8080/",
          "height": 282
        }
      },
      "source": [
        "plt.plot(model_history['accuracy'], label=\"accuracy\")\n",
        "plt.plot(model_history['val_accuracy'], label=\"val accuracy\")\n",
        "plt.legend()"
      ],
      "execution_count": 29,
      "outputs": [
        {
          "output_type": "execute_result",
          "data": {
            "text/plain": [
              "<matplotlib.legend.Legend at 0x7f8eb2020c88>"
            ]
          },
          "metadata": {
            "tags": []
          },
          "execution_count": 29
        },
        {
          "output_type": "display_data",
          "data": {
            "image/png": "[encoded data removed]",
            "text/plain": [
              "<Figure size 432x288 with 1 Axes>"
            ]
          },
          "metadata": {
            "tags": [],
            "needs_background": "light"
          }
        }
      ]
    },
    {
      "cell_type": "code",
      "metadata": {
        "id": "XcELLq7nTGfR",
        "outputId": "4ec0606d-f4b3-4de9-d348-59576abef240",
        "colab": {
          "base_uri": "https://localhost:8080/",
          "height": 282
        }
      },
      "source": [
        "plt.plot(model_history['loss'], label=\"training loss\")\n",
        "plt.plot(model_history['val_loss'], label=\"val loss\")\n",
        "plt.legend()"
      ],
      "execution_count": 30,
      "outputs": [
        {
          "output_type": "execute_result",
          "data": {
            "text/plain": [
              "<matplotlib.legend.Legend at 0x7f8eb20578d0>"
            ]
          },
          "metadata": {
            "tags": []
          },
          "execution_count": 30
        },
        {
          "output_type": "display_data",
          "data": {
            "image/png": "[encoded data removed]",
            "text/plain": [
              "<Figure size 432x288 with 1 Axes>"
            ]
          },
          "metadata": {
            "tags": [],
            "needs_background": "light"
          }
        }
      ]
    },
    {
      "cell_type": "code",
      "metadata": {
        "id": "dOI_3jmdTaPm",
        "outputId": "bf2b3eba-c193-400e-8918-2f2ab949b617",
        "colab": {
          "base_uri": "https://localhost:8080/",
          "height": 51
        }
      },
      "source": [
        "model.evaluate(val_generator)"
      ],
      "execution_count": 31,
      "outputs": [
        {
          "output_type": "stream",
          "text": [
            "4/4 [==============================] - 2s 563ms/step - loss: 0.1713 - accuracy: 0.9350\n"
          ],
          "name": "stdout"
        },
        {
          "output_type": "execute_result",
          "data": {
            "text/plain": [
              "[0.17129600048065186, 0.934959352016449]"
            ]
          },
          "metadata": {
            "tags": []
          },
          "execution_count": 31
        }
      ]
    },
    {
      "cell_type": "markdown",
      "metadata": {
        "id": "Xd5g5ev-WNZ1"
      },
      "source": [
        "# Test for new Image"
      ]
    },
    {
      "cell_type": "code",
      "metadata": {
        "id": "zrbdKhWXW-xI",
        "outputId": "5ec8045d-8d76-4405-eba5-5bf22a1bbb11",
        "colab": {
          "base_uri": "https://localhost:8080/",
          "height": 204
        }
      },
      "source": [
        "!wget \"https://www.thefactsite.com/wp-content/uploads/2018/04/Bulbasaur-facts.jpg\""
      ],
      "execution_count": 48,
      "outputs": [
        {
          "output_type": "stream",
          "text": [
            "--2020-10-17 16:19:41--  https://www.thefactsite.com/wp-content/uploads/2018/04/Bulbasaur-facts.jpg\n",
            "Resolving www.thefactsite.com (www.thefactsite.com)... 104.27.171.72, 172.67.142.87, 104.27.170.72, ...\n",
            "Connecting to www.thefactsite.com (www.thefactsite.com)|104.27.171.72|:443... connected.\n",
            "HTTP request sent, awaiting response... 200 OK\n",
            "Length: 40888 (40K) [image/jpeg]\n",
            "Saving to: ‘Bulbasaur-facts.jpg’\n",
            "\n",
            "\rBulbasaur-facts.jpg   0%[                    ]       0  --.-KB/s               \rBulbasaur-facts.jpg 100%[===================>]  39.93K  --.-KB/s    in 0.002s  \n",
            "\n",
            "2020-10-17 16:19:41 (23.4 MB/s) - ‘Bulbasaur-facts.jpg’ saved [40888/40888]\n",
            "\n"
          ],
          "name": "stdout"
        }
      ]
    },
    {
      "cell_type": "code",
      "metadata": {
        "id": "AyeqMWHNTjTd"
      },
      "source": [
        "test_img = image.load_img(\"./Bulbasaur-facts.jpg\", target_size=(100,100) )\n",
        "test_img = np.array(test_img)/255."
      ],
      "execution_count": 49,
      "outputs": []
    },
    {
      "cell_type": "code",
      "metadata": {
        "id": "L9OdqRjeUcMy",
        "outputId": "6695a271-cf18-439c-de1d-0450d647959a",
        "colab": {
          "base_uri": "https://localhost:8080/",
          "height": 285
        }
      },
      "source": [
        "plt.imshow(test_img)"
      ],
      "execution_count": 50,
      "outputs": [
        {
          "output_type": "execute_result",
          "data": {
            "text/plain": [
              "<matplotlib.image.AxesImage at 0x7f8eaa31db00>"
            ]
          },
          "metadata": {
            "tags": []
          },
          "execution_count": 50
        },
        {
          "output_type": "display_data",
          "data": {
            "image/png": "[encoded data removed]",
            "text/plain": [
              "<Figure size 432x288 with 1 Axes>"
            ]
          },
          "metadata": {
            "tags": [],
            "needs_background": "light"
          }
        }
      ]
    },
    {
      "cell_type": "code",
      "metadata": {
        "id": "2p5Laq5kUdkm"
      },
      "source": [
        "test_img = test_img.reshape(1,100,100,3)\n",
        "pred = model.predict_classes(test_img)"
      ],
      "execution_count": 51,
      "outputs": []
    },
    {
      "cell_type": "code",
      "metadata": {
        "id": "mGMr2zJxUlw8"
      },
      "source": [
        "dic = train_generator.class_indices"
      ],
      "execution_count": 42,
      "outputs": []
    },
    {
      "cell_type": "code",
      "metadata": {
        "id": "TM5r4SSxVLvM"
      },
      "source": [
        "rev_dic = { v:k for k,v in dic.items()}"
      ],
      "execution_count": 43,
      "outputs": []
    },
    {
      "cell_type": "code",
      "metadata": {
        "id": "zcqs2g5RV7Qf",
        "outputId": "2e1c72b7-eb07-47ce-8197-ad7dbea78e2f",
        "colab": {
          "base_uri": "https://localhost:8080/",
          "height": 35
        }
      },
      "source": [
        "rev_dic[pred[0]]"
      ],
      "execution_count": 52,
      "outputs": [
        {
          "output_type": "execute_result",
          "data": {
            "application/vnd.google.colaboratory.intrinsic+json": {
              "type": "string"
            },
            "text/plain": [
              "'Bulbasaur'"
            ]
          },
          "metadata": {
            "tags": []
          },
          "execution_count": 52
        }
      ]
    },
    {
      "cell_type": "code",
      "metadata": {
        "id": "EZJkM-9jWFLe"
      },
      "source": [
        ""
      ],
      "execution_count": null,
      "outputs": []
    }
  ]
}